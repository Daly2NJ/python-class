{
 "cells": [
  {
   "cell_type": "code",
   "execution_count": 13,
   "id": "230790a5",
   "metadata": {},
   "outputs": [],
   "source": [
    "import requests\n",
    "import json\n",
    "from pprint import pprint"
   ]
  },
  {
   "cell_type": "code",
   "execution_count": 26,
   "id": "fd38a4d5",
   "metadata": {},
   "outputs": [],
   "source": [
    "census_api_key = 'c80069740ff375d8ba101ccf3bd14c351561a7ae'\n",
    "url_str = 'https://api.census.gov/data/2021/acs/acs5?get=B01001_001E,B01001_002E,NAME&for=county:*&in=state:51&key='+census_api_key"
   ]
  },
  {
   "cell_type": "code",
   "execution_count": 33,
   "id": "08d3663b",
   "metadata": {},
   "outputs": [],
   "source": [
    "response = requests.get(url_str)\n",
    "data = json.loads(response.content)\n"
   ]
  },
  {
   "cell_type": "code",
   "execution_count": 28,
   "id": "e1c71c89",
   "metadata": {},
   "outputs": [],
   "source": [
    "total_population = {}\n",
    "male_population = {}\n",
    "male_ratio = {}\n",
    "\n",
    "for row in data[1:]:\n",
    "    county_name = row[2]\n",
    "    total_pop = int(row[0])\n",
    "    male_pop = int(row[1])\n",
    "\n",
    "    total_population[county_name] = total_pop\n",
    "    male_population[county_name] = male_pop\n",
    "    male_ratio[county_name] = male_pop/total_pop if total_pop != 0 else 0"
   ]
  },
  {
   "cell_type": "code",
   "execution_count": 29,
   "id": "c902cfec",
   "metadata": {},
   "outputs": [
    {
     "name": "stdout",
     "output_type": "stream",
     "text": [
      "Fairfax County, Virginia has the most total population with 1146825 people.\n"
     ]
    }
   ],
   "source": [
    "county_with_most_total_pop = max(total_population, key=total_population.get)\n",
    "most_total_pop = total_population[county_with_most_total_pop]\n",
    "print(\"{} has the most total population with {} people.\".format(county_with_most_total_pop, most_total_pop))"
   ]
  },
  {
   "cell_type": "code",
   "execution_count": 30,
   "id": "1716051d",
   "metadata": {},
   "outputs": [
    {
     "name": "stdout",
     "output_type": "stream",
     "text": [
      "Fairfax County, Virginia has the most male population with 572190 people.\n"
     ]
    }
   ],
   "source": [
    "county_with_most_male_pop = max(male_population, key=male_population.get)\n",
    "most_male_pop = male_population[county_with_most_male_pop]\n",
    "print(\"{} has the most male population with {} people.\".format(county_with_most_male_pop, most_male_pop))"
   ]
  },
  {
   "cell_type": "code",
   "execution_count": 31,
   "id": "e0864353",
   "metadata": {},
   "outputs": [
    {
     "name": "stdout",
     "output_type": "stream",
     "text": [
      "Greensville County, Virginia has the highest male population/total population ratio with 0.63.\n"
     ]
    }
   ],
   "source": [
    "county_with_highest_ratio = max(male_ratio, key=male_ratio.get)\n",
    "highest_ratio = male_ratio[county_with_highest_ratio]\n",
    "print(\"{} has the highest male population/total population ratio with {:.2f}.\".format(county_with_highest_ratio, highest_ratio))"
   ]
  },
  {
   "cell_type": "code",
   "execution_count": null,
   "id": "0d6c1b87",
   "metadata": {},
   "outputs": [],
   "source": []
  }
 ],
 "metadata": {
  "kernelspec": {
   "display_name": "conda_python3",
   "language": "python",
   "name": "conda_python3"
  },
  "language_info": {
   "codemirror_mode": {
    "name": "ipython",
    "version": 3
   },
   "file_extension": ".py",
   "mimetype": "text/x-python",
   "name": "python",
   "nbconvert_exporter": "python",
   "pygments_lexer": "ipython3",
   "version": "3.10.8"
  }
 },
 "nbformat": 4,
 "nbformat_minor": 5
}
